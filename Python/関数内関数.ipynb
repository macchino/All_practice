{
 "cells": [
  {
   "cell_type": "code",
   "execution_count": 2,
   "metadata": {},
   "outputs": [
    {
     "name": "stdout",
     "output_type": "stream",
     "text": [
      "3\n"
     ]
    }
   ],
   "source": [
    "def outer(a, b):\n",
    "    \n",
    "    def plus(c, d):\n",
    "        return c + d\n",
    "    \n",
    "    r = plus(a, b)\n",
    "    print(r)\n",
    "outer(1, 2)"
   ]
  },
  {
   "cell_type": "code",
   "execution_count": 3,
   "metadata": {},
   "outputs": [
    {
     "name": "stdout",
     "output_type": "stream",
     "text": [
      "314.0\n",
      "314.1592\n"
     ]
    }
   ],
   "source": [
    "def circle_area_func(pi):\n",
    "    def circle_area(radius):\n",
    "        return pi * radius * radius\n",
    "    \n",
    "    return circle_area\n",
    "\n",
    "ca1 = circle_area_func(3.14)\n",
    "ca2 = circle_area_func(3.141592)\n",
    "\n",
    "print(ca1(10))\n",
    "print(ca2(10))"
   ]
  },
  {
   "cell_type": "code",
   "execution_count": null,
   "metadata": {},
   "outputs": [],
   "source": []
  }
 ],
 "metadata": {
  "kernelspec": {
   "display_name": "Python 3",
   "language": "python",
   "name": "python3"
  },
  "language_info": {
   "codemirror_mode": {
    "name": "ipython",
    "version": 3
   },
   "file_extension": ".py",
   "mimetype": "text/x-python",
   "name": "python",
   "nbconvert_exporter": "python",
   "pygments_lexer": "ipython3",
   "version": "3.8.5"
  }
 },
 "nbformat": 4,
 "nbformat_minor": 4
}
