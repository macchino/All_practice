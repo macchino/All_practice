{
 "cells": [
  {
   "cell_type": "code",
   "execution_count": 5,
   "metadata": {},
   "outputs": [
    {
     "name": "stdout",
     "output_type": "stream",
     "text": [
      "start\n",
      "end\n",
      "30\n"
     ]
    }
   ],
   "source": [
    "def print_info(func):\n",
    "    def wrapper(*args, **kwargs):\n",
    "        print('start')\n",
    "        result = func(*args, **kwargs)\n",
    "        print('end')\n",
    "        return result\n",
    "    \n",
    "    return wrapper\n",
    "\n",
    "def add_num(a, b):\n",
    "    return a + b\n",
    "\n",
    "f = print_info(add_num)\n",
    "r = f(10, 20)\n",
    "print(r)\n",
    "# print('start')\n",
    "# r = add_num(10, 20)\n",
    "# print('end')\n",
    "# print(r)"
   ]
  },
  {
   "cell_type": "code",
   "execution_count": 6,
   "metadata": {},
   "outputs": [
    {
     "name": "stdout",
     "output_type": "stream",
     "text": [
      "start\n",
      "end\n",
      "30\n"
     ]
    }
   ],
   "source": [
    "def print_info(func):\n",
    "    def wrapper(*args, **kwargs):\n",
    "        print('start')\n",
    "        result = func(*args, **kwargs)\n",
    "        print('end')\n",
    "        return result\n",
    "    \n",
    "    return wrapper\n",
    "\n",
    "@print_info\n",
    "def add_num(a, b):\n",
    "    return a + b\n",
    "\n",
    "r = add_num(10, 20)\n",
    "print(r)"
   ]
  },
  {
   "cell_type": "code",
   "execution_count": 10,
   "metadata": {},
   "outputs": [
    {
     "name": "stdout",
     "output_type": "stream",
     "text": [
      "****************************************************************************************************\n",
      "funcaを実行\n",
      "(1, 2, 3)\n",
      "****************************************************************************************************\n",
      "****************************************************************************************************\n",
      "funcbを実行\n",
      "(1, 2, 3)\n",
      "****************************************************************************************************\n"
     ]
    }
   ],
   "source": [
    "def my_decorator(func):\n",
    "    def wrapper(*args, **kwargs):\n",
    "        print('*' * 100)\n",
    "        func(*args, **kwargs)\n",
    "        print('*' * 100)\n",
    "        \n",
    "    return wrapper\n",
    "        \n",
    "@my_decorator\n",
    "def func_a(*args, **kwargs):\n",
    "    print('funcaを実行')\n",
    "    print(args)\n",
    "    \n",
    "@my_decorator\n",
    "def func_b(*args, **kwargs):\n",
    "    print('funcbを実行')\n",
    "    print(args)\n",
    "    \n",
    "func_a(1, 2, 3)\n",
    "func_b(1, 2, 3)"
   ]
  },
  {
   "cell_type": "code",
   "execution_count": 11,
   "metadata": {},
   "outputs": [
    {
     "name": "stdout",
     "output_type": "stream",
     "text": [
      "****************************************************************************************************\n",
      "funcbを実行\n",
      "(2, 2, 3)\n",
      "****************************************************************************************************\n"
     ]
    }
   ],
   "source": [
    "def my_decorator(func):\n",
    "    def wrapper(*args, **kwargs):\n",
    "        if args[0] == 1:\n",
    "            return 1\n",
    "        print('*' * 100)\n",
    "        func(*args, **kwargs)\n",
    "        print('*' * 100)\n",
    "        \n",
    "    return wrapper\n",
    "        \n",
    "@my_decorator\n",
    "def func_a(*args, **kwargs):\n",
    "    print('funcaを実行')\n",
    "    print(args)\n",
    "    \n",
    "@my_decorator\n",
    "def func_b(*args, **kwargs):\n",
    "    print('funcbを実行')\n",
    "    print(args)\n",
    "    \n",
    "func_a(1, 2, 3)\n",
    "func_b(2, 2, 3)"
   ]
  },
  {
   "cell_type": "code",
   "execution_count": 15,
   "metadata": {},
   "outputs": [
    {
     "name": "stdout",
     "output_type": "stream",
     "text": [
      "start\n",
      "func: add_num\n",
      "args: (10, 20)\n",
      "kwrgs: {}\n",
      "result: 30\n",
      "end\n",
      "30\n"
     ]
    }
   ],
   "source": [
    "def print_more(func):\n",
    "    def wrapper(*args, **kwargs):\n",
    "        print('func:', func.__name__)\n",
    "        print('args:', args)\n",
    "        print('kwrgs:', kwargs)\n",
    "        result = func(*args, **kwargs)\n",
    "        print('result:', result)\n",
    "        return result\n",
    "    \n",
    "    return wrapper\n",
    "\n",
    "def print_info(func):\n",
    "    def wrapper(*args, **kwargs):\n",
    "        print('start')\n",
    "        result = func(*args, **kwargs)\n",
    "        print('end')\n",
    "        return result\n",
    "    \n",
    "    return wrapper\n",
    "@print_info\n",
    "@print_more\n",
    "def add_num(a, b):\n",
    "    return a + b\n",
    "\n",
    "r = add_num(10, 20)\n",
    "print(r)"
   ]
  },
  {
   "cell_type": "code",
   "execution_count": null,
   "metadata": {},
   "outputs": [],
   "source": []
  }
 ],
 "metadata": {
  "kernelspec": {
   "display_name": "Python 3",
   "language": "python",
   "name": "python3"
  },
  "language_info": {
   "codemirror_mode": {
    "name": "ipython",
    "version": 3
   },
   "file_extension": ".py",
   "mimetype": "text/x-python",
   "name": "python",
   "nbconvert_exporter": "python",
   "pygments_lexer": "ipython3",
   "version": "3.8.5"
  }
 },
 "nbformat": 4,
 "nbformat_minor": 4
}
