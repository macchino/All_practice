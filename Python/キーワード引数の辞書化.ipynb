{
 "cells": [
  {
   "cell_type": "code",
   "execution_count": 1,
   "metadata": {},
   "outputs": [],
   "source": [
    "def menu(entree='beef', drink='wine'):\n",
    "    print(entree, drink)"
   ]
  },
  {
   "cell_type": "code",
   "execution_count": 3,
   "metadata": {},
   "outputs": [
    {
     "name": "stdout",
     "output_type": "stream",
     "text": [
      "beef coffee\n"
     ]
    }
   ],
   "source": [
    "menu(entree='beef', drink='coffee')"
   ]
  },
  {
   "cell_type": "code",
   "execution_count": 7,
   "metadata": {},
   "outputs": [
    {
     "name": "stdout",
     "output_type": "stream",
     "text": [
      "{'entree': 'beef', 'drink': 'coffee'}\n"
     ]
    }
   ],
   "source": [
    "def menu(**kwargs):\n",
    "    print(kwargs)\n",
    "    \n",
    "menu(entree='beef', drink='coffee')"
   ]
  },
  {
   "cell_type": "code",
   "execution_count": 11,
   "metadata": {},
   "outputs": [
    {
     "name": "stdout",
     "output_type": "stream",
     "text": [
      "entree beef\n",
      "drink ice coffee\n",
      "desert ice\n"
     ]
    }
   ],
   "source": [
    "def menu(**kwargs):\n",
    "#     print(kwargs)\n",
    "    for k, v in kwargs.items():\n",
    "        print(k, v)\n",
    "    \n",
    "d = {\n",
    "    'entree': 'beef',\n",
    "    'drink': 'ice coffee',\n",
    "    'desert': 'ice'\n",
    "}\n",
    "menu(**d)\n"
   ]
  },
  {
   "cell_type": "code",
   "execution_count": 13,
   "metadata": {},
   "outputs": [
    {
     "name": "stdout",
     "output_type": "stream",
     "text": [
      "banana\n",
      "('apple', 'orange')\n",
      "{'entree': 'beef', 'drink': 'coffee'}\n"
     ]
    }
   ],
   "source": [
    "def menu(food, *args, **kwargs):\n",
    "    print(food)\n",
    "    print(args)\n",
    "    print(kwargs)\n",
    "\n",
    "\n",
    "menu('banana', 'apple', 'orange', entree='beef', drink='coffee', )"
   ]
  },
  {
   "cell_type": "code",
   "execution_count": 14,
   "metadata": {},
   "outputs": [
    {
     "ename": "SyntaxError",
     "evalue": "invalid syntax (<ipython-input-14-4dd3bb689f8d>, line 1)",
     "output_type": "error",
     "traceback": [
      "\u001b[0;36m  File \u001b[0;32m\"<ipython-input-14-4dd3bb689f8d>\"\u001b[0;36m, line \u001b[0;32m1\u001b[0m\n\u001b[0;31m    def menu(food, **kwargs, *args):\u001b[0m\n\u001b[0m                             ^\u001b[0m\n\u001b[0;31mSyntaxError\u001b[0m\u001b[0;31m:\u001b[0m invalid syntax\n"
     ]
    }
   ],
   "source": [
    "def menu(food, **kwargs, *args):\n",
    "    print(food)\n",
    "    print(args)\n",
    "    print(kwargs)\n",
    "\n",
    "\n",
    "menu('banana', 'apple', 'orange', entree='beef', drink='coffee', )"
   ]
  },
  {
   "cell_type": "code",
   "execution_count": null,
   "metadata": {},
   "outputs": [],
   "source": []
  }
 ],
 "metadata": {
  "kernelspec": {
   "display_name": "Python 3",
   "language": "python",
   "name": "python3"
  },
  "language_info": {
   "codemirror_mode": {
    "name": "ipython",
    "version": 3
   },
   "file_extension": ".py",
   "mimetype": "text/x-python",
   "name": "python",
   "nbconvert_exporter": "python",
   "pygments_lexer": "ipython3",
   "version": "3.8.5"
  }
 },
 "nbformat": 4,
 "nbformat_minor": 4
}
