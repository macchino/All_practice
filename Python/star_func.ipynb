{
 "cells": [
  {
   "cell_type": "code",
   "execution_count": 2,
   "metadata": {},
   "outputs": [
    {
     "name": "stdout",
     "output_type": "stream",
     "text": [
      "Hello Mke\n"
     ]
    }
   ],
   "source": [
    "def print_hello():\n",
    "    print('Hello Mke')\n",
    "    \n",
    "print_hello()"
   ]
  },
  {
   "cell_type": "code",
   "execution_count": 7,
   "metadata": {},
   "outputs": [
    {
     "name": "stdout",
     "output_type": "stream",
     "text": [
      "a =20, b = 100\n",
      "100\n"
     ]
    }
   ],
   "source": [
    "def num_max(a, b):\n",
    "    print(f'a ={a}, b = {b}')\n",
    "    if a > b:\n",
    "        return a\n",
    "    else:\n",
    "        return b\n",
    "\n",
    "print(num_max(b=100,a=20))"
   ]
  },
  {
   "cell_type": "code",
   "execution_count": 8,
   "metadata": {},
   "outputs": [
    {
     "name": "stdout",
     "output_type": "stream",
     "text": [
      "200 300\n"
     ]
    }
   ],
   "source": [
    "def sample(arg1, arg2=100):\n",
    "    print(arg1, arg2)\n",
    "\n",
    "sample(200, 300)"
   ]
  },
  {
   "cell_type": "code",
   "execution_count": 9,
   "metadata": {},
   "outputs": [
    {
     "name": "stdout",
     "output_type": "stream",
     "text": [
      "200 100\n"
     ]
    }
   ],
   "source": [
    "def sample(arg1, arg2=100):\n",
    "    print(arg1, arg2)\n",
    "\n",
    "sample(200)"
   ]
  },
  {
   "cell_type": "code",
   "execution_count": 13,
   "metadata": {},
   "outputs": [
    {
     "name": "stdout",
     "output_type": "stream",
     "text": [
      "arg1=1, arg2=(2, 3, 4, 5)\n",
      "<class 'tuple'>\n"
     ]
    }
   ],
   "source": [
    "def spam(arg1, *arg2):\n",
    "    print(f'arg1={arg1}, arg2={arg2}')\n",
    "    print(type(arg2))\n",
    "\n",
    "spam(1, 2, 3, 4, 5)"
   ]
  },
  {
   "cell_type": "code",
   "execution_count": 16,
   "metadata": {},
   "outputs": [
    {
     "name": "stdout",
     "output_type": "stream",
     "text": [
      "arg1=3, arg2={'name': 'Taro', 'age': 20, 'hobby': 'tennis'}\n",
      "<class 'dict'>\n"
     ]
    }
   ],
   "source": [
    "def spam_2(arg1, **arg2):\n",
    "    print(f'arg1={arg1}, arg2={arg2}')\n",
    "    print(type(arg2))\n",
    "    \n",
    "spam_2(3, name='Taro', age=20, hobby='tennis')"
   ]
  },
  {
   "cell_type": "code",
   "execution_count": 20,
   "metadata": {},
   "outputs": [
    {
     "name": "stdout",
     "output_type": "stream",
     "text": [
      "1 (2, 3, 4, 5) {'name': 'Taro', 'age': 25, 'hobby': 'basball'}\n",
      "<class 'int'>\n",
      "<class 'tuple'>\n",
      "<class 'dict'>\n"
     ]
    }
   ],
   "source": [
    "def spam3(arg1, *arg2, **arg3):\n",
    "    print(arg1, arg2, arg3)\n",
    "    print(type(arg1))\n",
    "    print(type(arg2))\n",
    "    print(type(arg3))\n",
    "\n",
    "\n",
    "spam3(1, 2, 3, 4, 5, name='Taro', age=25, hobby='basball')"
   ]
  },
  {
   "cell_type": "code",
   "execution_count": 22,
   "metadata": {},
   "outputs": [
    {
     "name": "stdout",
     "output_type": "stream",
     "text": [
      "1 2\n"
     ]
    }
   ],
   "source": [
    "def sample_2():\n",
    "    return 1, 2\n",
    "\n",
    "a, b = sample_2()\n",
    "print(a, b)\n",
    "\n"
   ]
  },
  {
   "cell_type": "code",
   "execution_count": 23,
   "metadata": {},
   "outputs": [
    {
     "name": "stdout",
     "output_type": "stream",
     "text": [
      "4\n"
     ]
    }
   ],
   "source": [
    "def f(x):\n",
    "    return x * 2\n",
    "result = f(2)\n",
    "print(result)"
   ]
  },
  {
   "cell_type": "code",
   "execution_count": 25,
   "metadata": {},
   "outputs": [
    {
     "name": "stdout",
     "output_type": "stream",
     "text": [
      "zは5ではありません\n"
     ]
    }
   ],
   "source": [
    "def fz(x):\n",
    "    return x + 1\n",
    "\n",
    "z = fz(7)\n",
    "\n",
    "if z == 5:\n",
    "    print('zは5です')\n",
    "else:\n",
    "    print('zは5ではありません')"
   ]
  },
  {
   "cell_type": "code",
   "execution_count": null,
   "metadata": {},
   "outputs": [],
   "source": []
  }
 ],
 "metadata": {
  "kernelspec": {
   "display_name": "Python 3",
   "language": "python",
   "name": "python3"
  },
  "language_info": {
   "codemirror_mode": {
    "name": "ipython",
    "version": 3
   },
   "file_extension": ".py",
   "mimetype": "text/x-python",
   "name": "python",
   "nbconvert_exporter": "python",
   "pygments_lexer": "ipython3",
   "version": "3.8.5"
  }
 },
 "nbformat": 4,
 "nbformat_minor": 4
}
