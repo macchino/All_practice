{
 "cells": [
  {
   "cell_type": "code",
   "execution_count": 2,
   "metadata": {},
   "outputs": [
    {
     "name": "stdout",
     "output_type": "stream",
     "text": [
      "j= [1, 2, 3, 4, 5]\n",
      "i= [1, 2, 3, 4, 5]\n"
     ]
    }
   ],
   "source": [
    "i = [1, 2, 3, 4, 5]\n",
    "j = i\n",
    "print('j=', j)\n",
    "print('i=', i)"
   ]
  },
  {
   "cell_type": "code",
   "execution_count": 3,
   "metadata": {},
   "outputs": [
    {
     "name": "stdout",
     "output_type": "stream",
     "text": [
      "j= [100, 2, 3, 4, 5]\n",
      "i= [100, 2, 3, 4, 5]\n"
     ]
    }
   ],
   "source": [
    "i = [1, 2, 3, 4, 5]\n",
    "j = i\n",
    "j[0] = 100\n",
    "print('j=', j)\n",
    "print('i=', i)"
   ]
  },
  {
   "cell_type": "code",
   "execution_count": 4,
   "metadata": {},
   "outputs": [
    {
     "name": "stdout",
     "output_type": "stream",
     "text": [
      "x= [1, 2, 3, 4, 5]\n",
      "y= [1, 2, 3, 4, 5]\n"
     ]
    }
   ],
   "source": [
    "x = [1, 2, 3, 4, 5]\n",
    "y = x.copy()\n",
    "print('x=', x)\n",
    "print('y=', y)"
   ]
  },
  {
   "cell_type": "code",
   "execution_count": 5,
   "metadata": {},
   "outputs": [
    {
     "name": "stdout",
     "output_type": "stream",
     "text": [
      "x= [1, 2, 3, 4, 5]\n",
      "y= [100, 2, 3, 4, 5]\n"
     ]
    }
   ],
   "source": [
    "x = [1, 2, 3, 4, 5]\n",
    "y = x.copy()\n",
    "y[0] = 100\n",
    "print('x=', x)\n",
    "print('y=', y)"
   ]
  },
  {
   "cell_type": "code",
   "execution_count": 7,
   "metadata": {},
   "outputs": [
    {
     "name": "stdout",
     "output_type": "stream",
     "text": [
      "x= [1, 2, 3, 4, 5]\n",
      "y= [100, 2, 3, 4, 5]\n"
     ]
    }
   ],
   "source": [
    "x = [1, 2, 3, 4, 5]\n",
    "y = x[:]\n",
    "y[0] = 100\n",
    "print('x=', x)\n",
    "print('y=', y)"
   ]
  },
  {
   "cell_type": "code",
   "execution_count": 8,
   "metadata": {},
   "outputs": [
    {
     "name": "stdout",
     "output_type": "stream",
     "text": [
      "5\n",
      "20\n"
     ]
    }
   ],
   "source": [
    "x = 20\n",
    "y = x\n",
    "y = 5\n",
    "print(y)\n",
    "print(x)"
   ]
  },
  {
   "cell_type": "code",
   "execution_count": 9,
   "metadata": {},
   "outputs": [
    {
     "name": "stdout",
     "output_type": "stream",
     "text": [
      "93923302064032\n",
      "93923302063552\n",
      "5\n",
      "20\n"
     ]
    }
   ],
   "source": [
    "x = 20\n",
    "y = x\n",
    "y = 5\n",
    "print(id(x))\n",
    "print(id(y))\n",
    "\n",
    "print(y)\n",
    "print(x)"
   ]
  },
  {
   "cell_type": "code",
   "execution_count": 10,
   "metadata": {},
   "outputs": [
    {
     "name": "stdout",
     "output_type": "stream",
     "text": [
      "['p', 'b']\n",
      "['p', 'b']\n"
     ]
    }
   ],
   "source": [
    "w = ['a', 'b']\n",
    "z = w\n",
    "w[0] = 'p'\n",
    "print(w)\n",
    "print(z)"
   ]
  },
  {
   "cell_type": "code",
   "execution_count": 11,
   "metadata": {},
   "outputs": [
    {
     "name": "stdout",
     "output_type": "stream",
     "text": [
      "140077905901952\n",
      "140077905901952\n",
      "['p', 'b']\n",
      "['p', 'b']\n"
     ]
    }
   ],
   "source": [
    "w = ['a', 'b']\n",
    "z = w\n",
    "w[0] = 'p'\n",
    "print(id(w))\n",
    "print(id(z))\n",
    "print(w)\n",
    "print(z)"
   ]
  },
  {
   "cell_type": "code",
   "execution_count": null,
   "metadata": {},
   "outputs": [],
   "source": []
  }
 ],
 "metadata": {
  "kernelspec": {
   "display_name": "Python 3",
   "language": "python",
   "name": "python3"
  },
  "language_info": {
   "codemirror_mode": {
    "name": "ipython",
    "version": 3
   },
   "file_extension": ".py",
   "mimetype": "text/x-python",
   "name": "python",
   "nbconvert_exporter": "python",
   "pygments_lexer": "ipython3",
   "version": "3.8.5"
  }
 },
 "nbformat": 4,
 "nbformat_minor": 4
}
