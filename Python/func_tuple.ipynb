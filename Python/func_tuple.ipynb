{
 "cells": [
  {
   "cell_type": "code",
   "execution_count": 2,
   "metadata": {},
   "outputs": [
    {
     "name": "stdout",
     "output_type": "stream",
     "text": [
      "Hi\n",
      "Mike\n",
      "Nancy\n"
     ]
    }
   ],
   "source": [
    "def say_something(word, word2, word3):\n",
    "    print(word)\n",
    "    print(word2)\n",
    "    print(word3)\n",
    "\n",
    "say_something('Hi', 'Mike', 'Nancy')"
   ]
  },
  {
   "cell_type": "code",
   "execution_count": 5,
   "metadata": {},
   "outputs": [
    {
     "name": "stdout",
     "output_type": "stream",
     "text": [
      "Hi\n",
      "Mike\n",
      "Nancy\n"
     ]
    }
   ],
   "source": [
    "def say_something(*args):\n",
    "    for arg in args:\n",
    "        print(arg)\n",
    "    \n",
    "    \n",
    "say_something('Hi', 'Mike', 'Nancy')"
   ]
  },
  {
   "cell_type": "code",
   "execution_count": 6,
   "metadata": {},
   "outputs": [
    {
     "name": "stdout",
     "output_type": "stream",
     "text": [
      "word= Hi\n",
      "Mike\n",
      "Nancy\n"
     ]
    }
   ],
   "source": [
    "def say_something(word, *args):\n",
    "    print('word=', word)\n",
    "    for arg in args:\n",
    "        print(arg)\n",
    "    \n",
    "    \n",
    "say_something('Hi', 'Mike', 'Nancy')"
   ]
  },
  {
   "cell_type": "code",
   "execution_count": 7,
   "metadata": {},
   "outputs": [
    {
     "name": "stdout",
     "output_type": "stream",
     "text": [
      "word= Hi\n",
      "Mike\n",
      "Nancy\n"
     ]
    }
   ],
   "source": [
    "def say_something(word, *args):\n",
    "    print('word=', word)\n",
    "    for arg in args:\n",
    "        print(arg)\n",
    "        \n",
    "t = ('Mike', 'Nancy')\n",
    "say_something('Hi', *t)"
   ]
  },
  {
   "cell_type": "code",
   "execution_count": null,
   "metadata": {},
   "outputs": [],
   "source": []
  }
 ],
 "metadata": {
  "kernelspec": {
   "display_name": "Python 3",
   "language": "python",
   "name": "python3"
  },
  "language_info": {
   "codemirror_mode": {
    "name": "ipython",
    "version": 3
   },
   "file_extension": ".py",
   "mimetype": "text/x-python",
   "name": "python",
   "nbconvert_exporter": "python",
   "pygments_lexer": "ipython3",
   "version": "3.8.5"
  }
 },
 "nbformat": 4,
 "nbformat_minor": 4
}
